{
 "cells": [
  {
   "cell_type": "code",
   "execution_count": null,
   "id": "56a7f8c4-a829-491e-b9f3-ba88585d4ccf",
   "metadata": {},
   "outputs": [],
   "source": [
    "'''\n",
    "Q1. What is the difference between Ordinal Encoding and Label Encoding? Provide an example of when you\n",
    "might choose one over the other.\n",
    "'''\n",
    "\n",
    "Ordinal Encoding and Label Encoding are techniques used to convert categorical data into numerical values.\n",
    "\n",
    "Ordinal Encoding : assigns numerical values to categories in a meaningful order, making it suitable\n",
    "for ordinal data where the order matters .\n",
    "(e.g., rating scales: \"low\" = 1, \"medium\" = 2, \"high\" = 3).\n",
    "\n",
    "Label Encoding  : assigns arbitrary numerical values to categories without any order, making it suitable \n",
    "for nominal data where the order does not matter .\n",
    "(e.g., colors: \"red\" = 1, \"blue\" = 2, \"green\" = 3).\n",
    "\n",
    "Choose Ordinal Encoding when the categorical data has a meaningful order, and Label Encoding when the\n",
    "order of categories is irrelevant.\n",
    "\n",
    "\n"
   ]
  },
  {
   "cell_type": "code",
   "execution_count": null,
   "id": "7bc1a055-7efc-46e6-878b-5064af945cd9",
   "metadata": {},
   "outputs": [],
   "source": [
    "'''\n",
    "Q2. Explain how Target Guided Ordinal Encoding works and provide an example of when you might use it in\n",
    "a machine learning project\n",
    "'''\n",
    "\n",
    "\n",
    "Target Guided Ordinal Encoding works by ordering the categories based on the relationship between \n",
    "each category and the target variable, then encoding them with ordinal numbers based on this order.\n",
    "\n",
    "For example, if you are predicting house prices and have a categorical feature \"neighborhood,\" \n",
    "you can calculate the mean house price for each neighborhood and then encode the neighborhoods \n",
    "based on these mean prices. This way, neighborhoods with higher average prices get higher numerical values.\n",
    "\n",
    "Use Target Guided Ordinal Encoding when the categorical feature has a significant impact\n",
    "on the target variable and you want to capture this relationship to improve model performance."
   ]
  },
  {
   "cell_type": "code",
   "execution_count": null,
   "id": "a214a503-1239-40f2-bd7e-54ce3112fa7d",
   "metadata": {},
   "outputs": [],
   "source": [
    "'''\n",
    "Q3. Define covariance and explain why it is important in statistical analysis. How is covariance calculated?\n",
    "'''\n",
    "Covariance is a measure of the degree to which two variables change together.\n",
    "If the variables tend to increase together, the covariance is positive; \n",
    "if one increases while the other decreases, the covariance is negative.\n",
    "\n",
    "Covariance is important in statistical analysis because it indicates the direction \n",
    "of the linear relationship between variables, which is useful in understanding how\n",
    "variables interact and in constructing models like regression analysis.\n",
    "\n",
    "Covariance is calculated using the formula:\n",
    "    \n",
    "                   1    ∑ (Xi - Xmean) (Yi - Ymean)\n",
    "Cov(X , Y ) =    ------\n",
    "                  n - 1 \n",
    "\n",
    "  are the means of the variables X and Y respectively."
   ]
  },
  {
   "cell_type": "code",
   "execution_count": 1,
   "id": "ce0958a1-d3d9-4da0-b412-bd0287005648",
   "metadata": {},
   "outputs": [
    {
     "name": "stdout",
     "output_type": "stream",
     "text": [
      "   Color  Size  Material\n",
      "0      2     2         2\n",
      "1      1     1         0\n",
      "2      0     0         1\n",
      "3      1     2         0\n",
      "4      2     0         2\n"
     ]
    }
   ],
   "source": [
    "'''\n",
    "Q4. For a dataset with the following categorical variables: Color (red, green, blue), Size (small, medium,\n",
    "large), and Material (wood, metal, plastic), perform label encoding using Python's scikit-learn library.\n",
    "Show your code and explain the output.\n",
    "'''\n",
    "\n",
    "from sklearn.preprocessing import LabelEncoder\n",
    "import pandas as pd\n",
    "\n",
    "# Sample data\n",
    "data = {\n",
    "    'Color': ['red', 'green', 'blue', 'green', 'red'],\n",
    "    'Size': ['small', 'medium', 'large', 'small', 'large'],\n",
    "    'Material': ['wood', 'metal', 'plastic', 'metal', 'wood']\n",
    "}\n",
    "\n",
    "# Creating a DataFrame\n",
    "df = pd.DataFrame(data)\n",
    "\n",
    "# Initializing LabelEncoder\n",
    "le = LabelEncoder()\n",
    "\n",
    "# Encoding each column\n",
    "df['Color'] = le.fit_transform(df['Color'])\n",
    "df['Size'] = le.fit_transform(df['Size'])\n",
    "df['Material'] = le.fit_transform(df['Material'])\n",
    "\n",
    "print(df)\n"
   ]
  },
  {
   "cell_type": "code",
   "execution_count": 3,
   "id": "7efb0013-7480-451d-8726-3f5a04fade7e",
   "metadata": {},
   "outputs": [
    {
     "name": "stdout",
     "output_type": "stream",
     "text": [
      "[[1.77040e+02 3.49040e+05 2.22400e+01]\n",
      " [3.49040e+05 1.32704e+09 8.94400e+04]\n",
      " [2.22400e+01 8.94400e+04 7.04000e+00]]\n"
     ]
    }
   ],
   "source": [
    "'''\n",
    "Q5. Calculate the covariance matrix for the following variables in a dataset: Age, Income, and Education\n",
    "level. Interpret the results.\n",
    "'''\n",
    "\n",
    "import numpy as np\n",
    "\n",
    "# Sample data\n",
    "data = {\n",
    "    'Age': [25, 32, 47, 51, 62],\n",
    "    'Income': [50000, 64000, 120000, 150000, 98000],\n",
    "    'Education_Level': [12, 16, 18, 20, 16]\n",
    "}\n",
    "\n",
    "# Convert the data into a NumPy array\n",
    "data_matrix = np.array([data['Age'], data['Income'], data['Education_Level']])\n",
    "\n",
    "# Calculate the covariance matrix\n",
    "cov_matrix = np.cov(data_matrix, bias=True)\n",
    "\n",
    "print(cov_matrix)\n",
    "\n"
   ]
  },
  {
   "cell_type": "code",
   "execution_count": null,
   "id": "12a42b73-9574-4f5b-9133-721a81a1395e",
   "metadata": {},
   "outputs": [],
   "source": [
    "'''\n",
    "Q6. You are working on a machine learning project with a dataset containing several categorical\n",
    "variables, including \"Gender\" (Male/Female), \"Education Level\" (High School/Bachelor's/Master's/PhD),\n",
    "and \"Employment Status\" (Unemployed/Part-Time/Full-Time). Which encoding method would you use for\n",
    "each variable, and why?\n",
    "'''\n",
    "\n",
    "\n",
    "Gender (Male/Female): Use Label Encoding\n",
    "because there are only two categories. \n",
    "Encode \"Male\" as 0 and \"Female\" as 1 (or vice versa).\n",
    "\n",
    "Education Level (High School/Bachelor's/Master's/PhD): Use Ordinal Encoding \n",
    "because there is a clear order from lower to higher education levels.\n",
    "Encode \"High School\" as 1, \"Bachelor's\" as 2, \"Master's\" as 3, and \"PhD\" as 4.\n",
    "\n",
    "Employment Status (Unemployed/Part-Time/Full-Time): Use One-Hot Encoding\n",
    "because there is no inherent order among employment statuses. \n",
    "Create binary columns where each category has its own column, indicating its presence or absence in each observation."
   ]
  },
  {
   "cell_type": "code",
   "execution_count": null,
   "id": "1d1ffc9f-e64a-4f56-979b-99acd1766729",
   "metadata": {},
   "outputs": [],
   "source": [
    "'''\n",
    "Q7. You are analyzing a dataset with two continuous variables, \"Temperature\" and \"Humidity\", and two\n",
    "categorical variables, \"Weather Condition\" (Sunny/Cloudy/Rainy) and \"Wind Direction\" (North/South/\n",
    "East/West). Calculate the covariance between each pair of variables and interpret the results.\n",
    "'''\n",
    "For the dataset with variables Temperature, Humidity, Weather Condition (Sunny/Cloudy/Rainy), \n",
    "and Wind Direction (North/South/East/West):\n",
    "\n",
    "Temperature and Humidity: Covariance measures their directional relationship.\n",
    "A positive value indicates they tend to increase or decrease together,\n",
    "while negative suggests an inverse relationship. Higher values indicate a stronger relationship.\n",
    "\n",
    "Weather Condition and Wind Direction: Covariance isnot suitable for categorical variables.\n",
    "Use methods like chi-square tests for association."
   ]
  }
 ],
 "metadata": {
  "kernelspec": {
   "display_name": "Python 3 (ipykernel)",
   "language": "python",
   "name": "python3"
  },
  "language_info": {
   "codemirror_mode": {
    "name": "ipython",
    "version": 3
   },
   "file_extension": ".py",
   "mimetype": "text/x-python",
   "name": "python",
   "nbconvert_exporter": "python",
   "pygments_lexer": "ipython3",
   "version": "3.10.8"
  }
 },
 "nbformat": 4,
 "nbformat_minor": 5
}
